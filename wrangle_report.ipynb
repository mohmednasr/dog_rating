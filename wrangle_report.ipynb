{
 "cells": [
  {
   "cell_type": "markdown",
   "metadata": {},
   "source": [
    "# Wrangle Report\n",
    "**Image Prediction table** it's complicated to make insights from it then I work to make this table to be more trivial table to get great insights from it by make the table from the wide format table to long format table to make each opservation in row I make this by apply function and make function specific for this case to make the result true not rough data and change the datatypes for the columns to make insights easily.\n",
    "\n",
    "**Twitter Archive table** I check the status of the tweets by josn_tweet.txt file to know if I have some wrong on the this table by get from the json table if the tweet relpy or retweeted to make my insights strong and then the numerator rating and denominator rating have some different values makes me I want to check these values then I notice some times get the date of the post and some times fractions \"average\" this make me to work more to extract the true value of the rating by extract if the rating denominator equal 10 and if not then get the value by extract if number divide by number and change the datatypes of ids to string time to datetime to make insights easily and merge josn_tweet.txt data the number of favorite and number of retweet for each tweet to make the any thing related to the tweet in the same table."
   ]
  }
 ],
 "metadata": {
  "kernelspec": {
   "display_name": "Python [default]",
   "language": "python",
   "name": "python3"
  },
  "language_info": {
   "codemirror_mode": {
    "name": "ipython",
    "version": 3
   },
   "file_extension": ".py",
   "mimetype": "text/x-python",
   "name": "python",
   "nbconvert_exporter": "python",
   "pygments_lexer": "ipython3",
   "version": "3.6.6"
  }
 },
 "nbformat": 4,
 "nbformat_minor": 2
}
